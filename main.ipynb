{
 "cells": [
  {
   "cell_type": "code",
   "execution_count": null,
   "metadata": {},
   "outputs": [],
   "source": [
    "# Bringing in API \n",
    "import openai\n",
    "import os\n",
    "\n",
    "# And other libraries\n",
    "from bs4 import BeautifulSoup\n",
    "import requests\n",
    "from urllib.parse import urlparse"
   ]
  },
  {
   "cell_type": "code",
   "execution_count": null,
   "metadata": {},
   "outputs": [],
   "source": [
    "# os.environ[\"OPENAI_API_KEY\"] = \"YOUR KEY GOES HERE\"\n",
    "# openai.api_key=os.getenv('OPENAI_API_KEY')"
   ]
  },
  {
   "cell_type": "code",
   "execution_count": 3,
   "metadata": {},
   "outputs": [],
   "source": [
    "# URL Scrape Function\n",
    "def scrape_url(url):\n",
    "    try:\n",
    "        # Parse the URL to extract the domain\n",
    "        parsed_url = urlparse(url)\n",
    "        domain = parsed_url.netloc.lower()\n",
    "\n",
    "        # Define a list of domains to exclude (customize as needed)\n",
    "        excluded_domains = [\"example.com\", \"otherdomain.com\"]\n",
    "\n",
    "        if domain in excluded_domains:\n",
    "            return f\"This website ({domain}) is excluded from scraping.\"\n",
    "\n",
    "        # Fetch the web page content\n",
    "        response = requests.get(url)\n",
    "        response.raise_for_status()  # Raise an exception if there's an error\n",
    "\n",
    "        # Parse the HTML using Beautiful Soup\n",
    "        soup = BeautifulSoup(response.content, \"html.parser\")\n",
    "\n",
    "        # Extract all text from the page\n",
    "        all_text = soup.get_text()\n",
    "\n",
    "        return all_text\n",
    "    except Exception as e:\n",
    "        return f\"Error: {str(e)}\"\n",
    "\n",
    "# Word Count Function\n",
    "def count_words(string):\n",
    "    words = string.split()\n",
    "    return len(words)"
   ]
  },
  {
   "cell_type": "code",
   "execution_count": 4,
   "metadata": {},
   "outputs": [],
   "source": [
    "# Breaking strings into 600 word groups\n",
    "def format_messages(text):\n",
    "    words = text.split()\n",
    "    messages = []\n",
    "    for i in range(0, len(words), 600):\n",
    "        group = ' '.join(words[i:i+600])\n",
    "        message = {\"role\": \"user\", \"text\": group}\n",
    "        messages.append(message)\n",
    "    return messages"
   ]
  },
  {
   "cell_type": "code",
   "execution_count": 5,
   "metadata": {},
   "outputs": [],
   "source": [
    "def summarize_list(input_list):\n",
    "    summaries = []\n",
    "    for text in input_list:\n",
    "        response = openai.Completion.create(\n",
    "            engine=\"davinci\",\n",
    "            prompt=f\"Please summarize the following text:\\n{text}\\n\\nSummary:\",\n",
    "            max_tokens=60,\n",
    "            n=1,\n",
    "            stop=None,\n",
    "            temperature=0.5,\n",
    "        )\n",
    "        summary = response.choices[0].text.strip()\n",
    "        summaries.append(summary)\n",
    "    return summaries"
   ]
  },
  {
   "cell_type": "markdown",
   "metadata": {},
   "source": [
    "### OpenAI API Usage"
   ]
  },
  {
   "cell_type": "code",
   "execution_count": 6,
   "metadata": {},
   "outputs": [],
   "source": [
    "# Example usage - It works\n",
    "url_to_scrape = \"https://en.wikipedia.org/wiki/Dell\"\n",
    "scraped_text = scrape_url(url_to_scrape)\n",
    "\n",
    "# Creating the words list\n",
    "article_chunks = format_messages(scraped_text)"
   ]
  },
  {
   "cell_type": "code",
   "execution_count": 7,
   "metadata": {},
   "outputs": [],
   "source": [
    "# calling the OpenAI function with summarize list\n",
    "open_ai = summarize_list(article_chunks)"
   ]
  },
  {
   "cell_type": "code",
   "execution_count": null,
   "metadata": {},
   "outputs": [
    {
     "ename": "TypeError",
     "evalue": "list indices must be integers or slices, not str",
     "output_type": "error",
     "traceback": [
      "\u001b[0;31m---------------------------------------------------------------------------\u001b[0m",
      "\u001b[0;31mTypeError\u001b[0m                                 Traceback (most recent call last)",
      "\u001b[1;32m/workspaces/web-summarizer/main.ipynb Cell 9\u001b[0m line \u001b[0;36m1\n\u001b[0;32m----> <a href='vscode-notebook-cell://codespaces%2Bredesigned-sniffle-pwrjqj9959v397gj/workspaces/web-summarizer/main.ipynb#X11sdnNjb2RlLXJlbW90ZQ%3D%3D?line=0'>1</a>\u001b[0m open_ai[\u001b[39m'\u001b[39;49m\u001b[39mchoices\u001b[39;49m\u001b[39m'\u001b[39;49m][\u001b[39m0\u001b[39m][\u001b[39m'\u001b[39m\u001b[39mtext\u001b[39m\u001b[39m'\u001b[39m]\n",
      "\u001b[0;31mTypeError\u001b[0m: list indices must be integers or slices, not str"
     ]
    }
   ],
   "source": [
    "open_ai"
   ]
  },
  {
   "cell_type": "code",
   "execution_count": null,
   "metadata": {},
   "outputs": [],
   "source": []
  },
  {
   "cell_type": "code",
   "execution_count": null,
   "metadata": {},
   "outputs": [],
   "source": []
  }
 ],
 "metadata": {
  "kernelspec": {
   "display_name": "Python 3",
   "language": "python",
   "name": "python3"
  },
  "language_info": {
   "codemirror_mode": {
    "name": "ipython",
    "version": 3
   },
   "file_extension": ".py",
   "mimetype": "text/x-python",
   "name": "python",
   "nbconvert_exporter": "python",
   "pygments_lexer": "ipython3",
   "version": "3.10.8"
  }
 },
 "nbformat": 4,
 "nbformat_minor": 2
}
