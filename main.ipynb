{
 "cells": [
  {
   "cell_type": "code",
   "execution_count": 2,
   "metadata": {},
   "outputs": [],
   "source": [
    "# Bringing in API \n",
    "import openai\n",
    "import os\n",
    "\n",
    "# And other libraries\n",
    "from bs4 import BeautifulSoup\n",
    "import requests\n",
    "from urllib.parse import urlparse"
   ]
  },
  {
   "cell_type": "code",
   "execution_count": null,
   "metadata": {},
   "outputs": [],
   "source": [
    "# os.environ[\"OPENAI_API_KEY\"] = \"YOUR KEY GOES HERE\"\n",
    "# openai.api_key=os.getenv('OPENAI_API_KEY')"
   ]
  },
  {
   "cell_type": "code",
   "execution_count": 3,
   "metadata": {},
   "outputs": [],
   "source": [
    "# URL Scrape Function\n",
    "def scrape_url(url):\n",
    "    try:\n",
    "        # Parse the URL to extract the domain\n",
    "        parsed_url = urlparse(url)\n",
    "        domain = parsed_url.netloc.lower()\n",
    "\n",
    "        # Define a list of domains to exclude (customize as needed)\n",
    "        excluded_domains = [\"example.com\", \"otherdomain.com\"]\n",
    "\n",
    "        if domain in excluded_domains:\n",
    "            return f\"This website ({domain}) is excluded from scraping.\"\n",
    "\n",
    "        # Fetch the web page content\n",
    "        response = requests.get(url)\n",
    "        response.raise_for_status()  # Raise an exception if there's an error\n",
    "\n",
    "        # Parse the HTML using Beautiful Soup\n",
    "        soup = BeautifulSoup(response.content, \"html.parser\")\n",
    "\n",
    "        # Extract all text from the page\n",
    "        all_text = soup.get_text()\n",
    "\n",
    "        return all_text\n",
    "    except Exception as e:\n",
    "        return f\"Error: {str(e)}\"\n",
    "\n",
    "# Word Count Function\n",
    "def count_words(string):\n",
    "    words = string.split()\n",
    "    return len(words)"
   ]
  },
  {
   "cell_type": "code",
   "execution_count": 5,
   "metadata": {},
   "outputs": [],
   "source": [
    "# Example usage - It works\n",
    "url_to_scrape = \"https://en.wikipedia.org/wiki/Dell\"\n",
    "scraped_text = scrape_url(url_to_scrape)\n",
    "# print(scraped_text)"
   ]
  },
  {
   "cell_type": "code",
   "execution_count": 6,
   "metadata": {},
   "outputs": [
    {
     "name": "stdout",
     "output_type": "stream",
     "text": [
      "17597\n"
     ]
    }
   ],
   "source": [
    "# Trying the word count function\n",
    "print(count_words(scraped_text))"
   ]
  },
  {
   "cell_type": "code",
   "execution_count": null,
   "metadata": {},
   "outputs": [],
   "source": []
  },
  {
   "cell_type": "code",
   "execution_count": null,
   "metadata": {},
   "outputs": [],
   "source": []
  },
  {
   "cell_type": "code",
   "execution_count": null,
   "metadata": {},
   "outputs": [],
   "source": []
  }
 ],
 "metadata": {
  "kernelspec": {
   "display_name": "Python 3",
   "language": "python",
   "name": "python3"
  },
  "language_info": {
   "codemirror_mode": {
    "name": "ipython",
    "version": 3
   },
   "file_extension": ".py",
   "mimetype": "text/x-python",
   "name": "python",
   "nbconvert_exporter": "python",
   "pygments_lexer": "ipython3",
   "version": "3.10.8"
  }
 },
 "nbformat": 4,
 "nbformat_minor": 2
}
